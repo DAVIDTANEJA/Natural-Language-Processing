{
 "cells": [
  {
   "cell_type": "code",
   "execution_count": null,
   "metadata": {},
   "outputs": [],
   "source": [
    "A Topic Model can be defined as an unsupervised technique to discover topics across various text documents. \n",
    "These topics are abstract in nature, i.e., words which are related to each other form a topic. \n",
    "This black box (topic model) forms clusters of similar and related words which are called topics. \n",
    "These topics have a certain distribution in a document, and every topic is defined by the proportion of \n",
    "different words it contains."
   ]
  },
  {
   "cell_type": "markdown",
   "metadata": {},
   "source": [
    "<img src='topic_model1.png'>"
   ]
  },
  {
   "cell_type": "code",
   "execution_count": null,
   "metadata": {},
   "outputs": [],
   "source": [
    "Topic modeling helps in exploring large amounts of text data, finding clusters of words, \n",
    "similarity between documents and discovering abstract topics, also used in search engines \n",
    "wherein the search string is matched with the results. "
   ]
  },
  {
   "cell_type": "markdown",
   "metadata": {},
   "source": [
    "## Latent Semantic Analysis (LSA)"
   ]
  },
  {
   "cell_type": "code",
   "execution_count": null,
   "metadata": {},
   "outputs": [],
   "source": [
    "It include different words that mean the same thing, and also the words which have the same spelling but different meanings.\n",
    "\n",
    "For example, consider the following two sentences:\n",
    "-I liked his last novel quite a lot.\n",
    "-We would like to go for a novel marketing campaign.\n",
    "\n",
    "In the first sentence, the word ‘novel’ refers to a book, and \n",
    "In the second sentence it means new or fresh.\n",
    "We can easily distinguish between these words because we are able to understand the context behind these words. \n",
    "However, a machine would not be able to capture this concept as it cannot understand the context \n",
    "in which the words have been used."
   ]
  },
  {
   "cell_type": "code",
   "execution_count": null,
   "metadata": {},
   "outputs": [],
   "source": [
    "LSA : comes into play as it attempts to leverage the context around the words to capture the hidden concepts (topics).\n",
    "\n",
    "LSA is fast and easy to implement, much better than a plain vector space model.\n",
    "\n",
    "-Since it is a linear model, it might not do well on datasets with non-linear dependencies.\n",
    "-LSA assumes a Gaussian distribution of the terms in the documents, which may not be true for all problems.\n",
    "-LSA involves SVD, which is computationally intensive and hard to update as new data comes up."
   ]
  },
  {
   "cell_type": "markdown",
   "metadata": {},
   "source": [
    "Using the '20 Newsgroup' dataset, which can be downoloaded from here : https://archive.ics.uci.edu/ml/datasets/Twenty+Newsgroups "
   ]
  },
  {
   "cell_type": "code",
   "execution_count": 8,
   "metadata": {},
   "outputs": [],
   "source": [
    "import numpy as np\n",
    "import pandas as pd\n",
    "import matplotlib.pyplot as plt\n",
    "%matplotlib inline\n",
    "import seaborn as sns"
   ]
  },
  {
   "cell_type": "markdown",
   "metadata": {},
   "source": [
    "##### Download using sklearn -> dataset"
   ]
  },
  {
   "cell_type": "code",
   "execution_count": 9,
   "metadata": {},
   "outputs": [],
   "source": [
    "# from sklearn.datasets import fetch_20newsgroups       # do not run this again and again, once downloaded the dataset. \n",
    "\n",
    "# dataset = fetch_20newsgroups(shuffle=True, random_state=1, remove=('headers', 'footers', 'quotes'))"
   ]
  },
  {
   "cell_type": "markdown",
   "metadata": {},
   "source": [
    "#### import the downloaded dataset"
   ]
  },
  {
   "cell_type": "code",
   "execution_count": 10,
   "metadata": {},
   "outputs": [],
   "source": [
    "from sklearn import datasets             # download above from sklearn datasets, here importing it.\n",
    "\n",
    "dataset = datasets.fetch_20newsgroups(shuffle=True, random_state=1, remove=('headers', 'footers', 'quotes'))"
   ]
  },
  {
   "cell_type": "code",
   "execution_count": 11,
   "metadata": {},
   "outputs": [
    {
     "data": {
      "text/plain": [
       "11314"
      ]
     },
     "execution_count": 11,
     "metadata": {},
     "output_type": "execute_result"
    }
   ],
   "source": [
    "documents = dataset.data\n",
    "len(documents)                     # The dataset has 11,314 text documents distributed across 20 different newsgroups."
   ]
  },
  {
   "cell_type": "code",
   "execution_count": 12,
   "metadata": {
    "scrolled": false
   },
   "outputs": [
    {
     "data": {
      "text/plain": [
       "['alt.atheism',\n",
       " 'comp.graphics',\n",
       " 'comp.os.ms-windows.misc',\n",
       " 'comp.sys.ibm.pc.hardware',\n",
       " 'comp.sys.mac.hardware',\n",
       " 'comp.windows.x',\n",
       " 'misc.forsale',\n",
       " 'rec.autos',\n",
       " 'rec.motorcycles',\n",
       " 'rec.sport.baseball',\n",
       " 'rec.sport.hockey',\n",
       " 'sci.crypt',\n",
       " 'sci.electronics',\n",
       " 'sci.med',\n",
       " 'sci.space',\n",
       " 'soc.religion.christian',\n",
       " 'talk.politics.guns',\n",
       " 'talk.politics.mideast',\n",
       " 'talk.politics.misc',\n",
       " 'talk.religion.misc']"
      ]
     },
     "execution_count": 12,
     "metadata": {},
     "output_type": "execute_result"
    }
   ],
   "source": [
    "dataset.target_names             # 20 different newsgroups"
   ]
  },
  {
   "cell_type": "code",
   "execution_count": 13,
   "metadata": {},
   "outputs": [
    {
     "data": {
      "text/html": [
       "<div>\n",
       "<style scoped>\n",
       "    .dataframe tbody tr th:only-of-type {\n",
       "        vertical-align: middle;\n",
       "    }\n",
       "\n",
       "    .dataframe tbody tr th {\n",
       "        vertical-align: top;\n",
       "    }\n",
       "\n",
       "    .dataframe thead th {\n",
       "        text-align: right;\n",
       "    }\n",
       "</style>\n",
       "<table border=\"1\" class=\"dataframe\">\n",
       "  <thead>\n",
       "    <tr style=\"text-align: right;\">\n",
       "      <th></th>\n",
       "      <th>document</th>\n",
       "    </tr>\n",
       "  </thead>\n",
       "  <tbody>\n",
       "    <tr>\n",
       "      <th>0</th>\n",
       "      <td>Well i'm not sure about the story nad it did s...</td>\n",
       "    </tr>\n",
       "    <tr>\n",
       "      <th>1</th>\n",
       "      <td>\\n\\n\\n\\n\\n\\n\\nYeah, do you expect people to re...</td>\n",
       "    </tr>\n",
       "    <tr>\n",
       "      <th>2</th>\n",
       "      <td>Although I realize that principle is not one o...</td>\n",
       "    </tr>\n",
       "    <tr>\n",
       "      <th>3</th>\n",
       "      <td>Notwithstanding all the legitimate fuss about ...</td>\n",
       "    </tr>\n",
       "    <tr>\n",
       "      <th>4</th>\n",
       "      <td>Well, I will have to change the scoring on my ...</td>\n",
       "    </tr>\n",
       "  </tbody>\n",
       "</table>\n",
       "</div>"
      ],
      "text/plain": [
       "                                            document\n",
       "0  Well i'm not sure about the story nad it did s...\n",
       "1  \\n\\n\\n\\n\\n\\n\\nYeah, do you expect people to re...\n",
       "2  Although I realize that principle is not one o...\n",
       "3  Notwithstanding all the legitimate fuss about ...\n",
       "4  Well, I will have to change the scoring on my ..."
      ]
     },
     "execution_count": 13,
     "metadata": {},
     "output_type": "execute_result"
    }
   ],
   "source": [
    "news_df = pd.DataFrame({'document': documents})         # create DF of 'documents'\n",
    "news_df.head()"
   ]
  },
  {
   "cell_type": "markdown",
   "metadata": {},
   "source": [
    "### Data Preprocessing"
   ]
  },
  {
   "cell_type": "raw",
   "metadata": {},
   "source": [
    "-1st remove punctuation using re -'regular expression'                                                                        \n",
    "-2nd lower all the words                                                                                                    \n",
    "-3rd get a list of words using split() remove space                                                                  \n",
    "-4th remove stopwords of 'corpus.stopwords' libraray and also use 'lem.lemmatize()' or 'ps.stem()' maps words into root form\n",
    "-5th join all the words                                                                                                       \n",
    "-finally, append into corpus list."
   ]
  },
  {
   "cell_type": "code",
   "execution_count": 14,
   "metadata": {},
   "outputs": [],
   "source": [
    "import re\n",
    "import nltk\n",
    "from nltk.corpus import stopwords\n",
    "from nltk.stem import WordNetLemmatizer, PorterStemmer\n",
    "\n",
    "lem = WordNetLemmatizer()      # used when meaning of word is important   ,  'lem.lemmatize(word)'  \n",
    "ps = PorterStemmer()         # we can also use 'ps.stem(word)' , But it is used when meaning of word is not important\n",
    "\n",
    "corpus=[]\n",
    "\n",
    "for i in range(len(news_df['document'])):\n",
    "    punctuation_removal = re.sub('[^a-zA-Z]', ' ', news_df.document[i])     # 1st remove punctuation\n",
    "    word_lower = punctuation_removal.lower()                                # 2nd lower the words \n",
    "    list_words = word_lower.split()                                         # 3rd create list of words by removing space  \n",
    "    stopword_removal = [ps.stem(word) for word in list_words if not word in set(stopwords.words('english'))]  # remove stopwords\n",
    "    words_join = ' '.join(stopword_removal)       # finally , join all the words\n",
    "    corpus.append(words_join)                     # then append to 'corpus' list"
   ]
  },
  {
   "cell_type": "code",
   "execution_count": 15,
   "metadata": {},
   "outputs": [
    {
     "data": {
      "text/html": [
       "<div>\n",
       "<style scoped>\n",
       "    .dataframe tbody tr th:only-of-type {\n",
       "        vertical-align: middle;\n",
       "    }\n",
       "\n",
       "    .dataframe tbody tr th {\n",
       "        vertical-align: top;\n",
       "    }\n",
       "\n",
       "    .dataframe thead th {\n",
       "        text-align: right;\n",
       "    }\n",
       "</style>\n",
       "<table border=\"1\" class=\"dataframe\">\n",
       "  <thead>\n",
       "    <tr style=\"text-align: right;\">\n",
       "      <th></th>\n",
       "      <th>document</th>\n",
       "      <th>clean_df</th>\n",
       "    </tr>\n",
       "  </thead>\n",
       "  <tbody>\n",
       "    <tr>\n",
       "      <th>0</th>\n",
       "      <td>Well i'm not sure about the story nad it did s...</td>\n",
       "      <td>well sure stori nad seem bias disagre statemen...</td>\n",
       "    </tr>\n",
       "    <tr>\n",
       "      <th>1</th>\n",
       "      <td>\\n\\n\\n\\n\\n\\n\\nYeah, do you expect people to re...</td>\n",
       "      <td>yeah expect peopl read faq etc actual accept h...</td>\n",
       "    </tr>\n",
       "    <tr>\n",
       "      <th>2</th>\n",
       "      <td>Although I realize that principle is not one o...</td>\n",
       "      <td>although realiz principl one strongest point w...</td>\n",
       "    </tr>\n",
       "    <tr>\n",
       "      <th>3</th>\n",
       "      <td>Notwithstanding all the legitimate fuss about ...</td>\n",
       "      <td>notwithstand legitim fuss propos much chang at...</td>\n",
       "    </tr>\n",
       "    <tr>\n",
       "      <th>4</th>\n",
       "      <td>Well, I will have to change the scoring on my ...</td>\n",
       "      <td>well chang score playoff pool unfortun time ri...</td>\n",
       "    </tr>\n",
       "  </tbody>\n",
       "</table>\n",
       "</div>"
      ],
      "text/plain": [
       "                                            document  \\\n",
       "0  Well i'm not sure about the story nad it did s...   \n",
       "1  \\n\\n\\n\\n\\n\\n\\nYeah, do you expect people to re...   \n",
       "2  Although I realize that principle is not one o...   \n",
       "3  Notwithstanding all the legitimate fuss about ...   \n",
       "4  Well, I will have to change the scoring on my ...   \n",
       "\n",
       "                                            clean_df  \n",
       "0  well sure stori nad seem bias disagre statemen...  \n",
       "1  yeah expect peopl read faq etc actual accept h...  \n",
       "2  although realiz principl one strongest point w...  \n",
       "3  notwithstand legitim fuss propos much chang at...  \n",
       "4  well chang score playoff pool unfortun time ri...  "
      ]
     },
     "execution_count": 15,
     "metadata": {},
     "output_type": "execute_result"
    }
   ],
   "source": [
    "news_df['clean_df'] = corpus           # assigning the 'corpus' into news_df -> 'clean_df' new coulmn\n",
    "news_df.head()"
   ]
  },
  {
   "cell_type": "code",
   "execution_count": 16,
   "metadata": {
    "scrolled": false
   },
   "outputs": [
    {
     "name": "stdout",
     "output_type": "stream",
     "text": [
      "clean_df of corpus : \n",
      "\n",
      " well sure stori nad seem bias disagre statement u media ruin israel reput redicul u media pro isra media world live europ realiz incid one describ letter occur u media whole seem tri ignor u subsid israel exist european least degre think might reason report clearli atroc shame austria daili report inhuman act commit isra soldier bless receiv govern make holocaust guilt go away look jew treat race got power unfortun\n",
      "\n",
      "Original text data : \n",
      "\n",
      " Well i'm not sure about the story nad it did seem biased. What\n",
      "I disagree with is your statement that the U.S. Media is out to\n",
      "ruin Israels reputation. That is rediculous. The U.S. media is\n",
      "the most pro-israeli media in the world. Having lived in Europe\n",
      "I realize that incidences such as the one described in the\n",
      "letter have occured. The U.S. media as a whole seem to try to\n",
      "ignore them. The U.S. is subsidizing Israels existance and the\n",
      "Europeans are not (at least not to the same degree). So I think\n",
      "that might be a reason they report more clearly on the\n",
      "atrocities.\n",
      "\tWhat is a shame is that in Austria, daily reports of\n",
      "the inhuman acts commited by Israeli soldiers and the blessing\n",
      "received from the Government makes some of the Holocaust guilt\n",
      "go away. After all, look how the Jews are treating other races\n",
      "when they got power. It is unfortunate.\n",
      "\n"
     ]
    }
   ],
   "source": [
    "# Compare the preprocessing steps with the original data\n",
    "\n",
    "print('clean_df of corpus : \\n\\n', news_df['clean_df'][0])                           \n",
    "print('\\nOriginal text data : \\n\\n', news_df['document'][0])"
   ]
  },
  {
   "cell_type": "markdown",
   "metadata": {},
   "source": [
    "## Now create - Document-term Matrix using (Tfidf Vectorizer)"
   ]
  },
  {
   "cell_type": "code",
   "execution_count": 17,
   "metadata": {},
   "outputs": [
    {
     "data": {
      "text/plain": [
       "(11314, 5000)"
      ]
     },
     "execution_count": 17,
     "metadata": {},
     "output_type": "execute_result"
    }
   ],
   "source": [
    "from sklearn.feature_extraction.text import TfidfVectorizer\n",
    "\n",
    "vectorizer = TfidfVectorizer(max_features=5000, max_df = 0.5, smooth_idf=True)   # using max_features=5000 , change acc.\n",
    "\n",
    "X = vectorizer.fit_transform(news_df['clean_df'])\n",
    "X.shape"
   ]
  },
  {
   "cell_type": "code",
   "execution_count": 1,
   "metadata": {},
   "outputs": [],
   "source": [
    "# vectorizer.vocabulary_      # gives vocabulary in dict{} form , we have fit the TFidfVector on 'vectorizer'"
   ]
  },
  {
   "cell_type": "code",
   "execution_count": 2,
   "metadata": {
    "scrolled": true
   },
   "outputs": [],
   "source": [
    "# see the vectorized data, 1: Row number of ‘X_train’, 2: Unique Integer number of each word in the first row,\n",
    "# 3: Score calculated by TF-IDF Vectorizer\n",
    "\n",
    "# print(X)"
   ]
  },
  {
   "cell_type": "markdown",
   "metadata": {},
   "source": [
    "## Topic Modeling"
   ]
  },
  {
   "cell_type": "code",
   "execution_count": null,
   "metadata": {},
   "outputs": [],
   "source": [
    "Now represent 'each term' and 'document' as a vector. \n",
    "Using the document-term matrix and decompose it into multiple matrices. \n",
    "Here we use 'sklearn’s TruncatedSVD' to perform the task of matrix decomposition.\n",
    "\n",
    "So the data comes from 20 different newsgroups, let’s try to have 20 topics for our text data. \n",
    "The number of topics can be specified by using the 'n_components' parameter."
   ]
  },
  {
   "cell_type": "code",
   "execution_count": 20,
   "metadata": {},
   "outputs": [
    {
     "data": {
      "text/plain": [
       "TruncatedSVD(algorithm='randomized', n_components=20, n_iter=100,\n",
       "       random_state=122, tol=0.0)"
      ]
     },
     "execution_count": 20,
     "metadata": {},
     "output_type": "execute_result"
    }
   ],
   "source": [
    "from sklearn.decomposition import TruncatedSVD                    # singular value decomposition (SVD)\n",
    "\n",
    "svd_model = TruncatedSVD(n_components=20, algorithm='randomized', n_iter=100, random_state=122)\n",
    "\n",
    "svd_model.fit(X)"
   ]
  },
  {
   "cell_type": "markdown",
   "metadata": {},
   "source": [
    "##### The components of svd_model are  topics."
   ]
  },
  {
   "cell_type": "code",
   "execution_count": 21,
   "metadata": {},
   "outputs": [
    {
     "data": {
      "text/plain": [
       "20"
      ]
     },
     "execution_count": 21,
     "metadata": {},
     "output_type": "execute_result"
    }
   ],
   "source": [
    "len(svd_model.components_)     # it has the value what vector gives for the words"
   ]
  },
  {
   "cell_type": "markdown",
   "metadata": {},
   "source": [
    "##### Now print a few most important words in each of the 20 topics."
   ]
  },
  {
   "cell_type": "code",
   "execution_count": 22,
   "metadata": {
    "scrolled": true
   },
   "outputs": [
    {
     "name": "stdout",
     "output_type": "stream",
     "text": [
      "Topic 0 :  would one use like get know peopl\n",
      "Topic 1 :  window thank file use card drive do\n",
      "Topic 2 :  game team year play player car drive\n",
      "Topic 3 :  key chip encrypt use clipper govern secur\n",
      "Topic 4 :  drive scsi card god mb disk hard\n",
      "Topic 5 :  thank pleas mail anyon edu know email\n",
      "Topic 6 :  geb dsl chastiti jxp cadr pitt intellect\n",
      "Topic 7 :  god key game chip team encrypt christian\n",
      "Topic 8 :  drive file armenian disk edu israel mail\n",
      "Topic 9 :  card video driver armenian monitor israel color\n",
      "Topic 10 :  drive would know thank anyon scsi peopl\n",
      "Topic 11 :  window car key driver armenian drive god\n",
      "Topic 12 :  window would use pleas like game mail\n",
      "Topic 13 :  would file car card gun driver law\n",
      "Topic 14 :  armenian anyon israel would thank car jew\n",
      "Topic 15 :  use gun one game file law printer\n",
      "Topic 16 :  driver anyon car gun space year thank\n",
      "Topic 17 :  car israel driver com would isra problem\n",
      "Topic 18 :  would god com armenian get go work\n",
      "Topic 19 :  armenian one driver like use look drive\n"
     ]
    }
   ],
   "source": [
    "terms = vectorizer.get_feature_names()          # it has the words(terms)\n",
    "\n",
    "for i, comp in enumerate(svd_model.components_): \n",
    "    terms_comp = zip(terms, comp)                                               # zip(words of terms, vector values)  \n",
    "    sorted_terms = sorted(terms_comp, key= lambda x:x[1], reverse=True)[:7]     # [:7] taking top 7\n",
    "    print(\"Topic \"+str(i)+ \" : \",  ' '.join(i[0] for i in sorted_terms))"
   ]
  },
  {
   "cell_type": "markdown",
   "metadata": {},
   "source": [
    "#### Saving the model using ( joblib )"
   ]
  },
  {
   "cell_type": "code",
   "execution_count": 23,
   "metadata": {},
   "outputs": [],
   "source": [
    "from sklearn.externals import joblib"
   ]
  },
  {
   "cell_type": "code",
   "execution_count": 24,
   "metadata": {},
   "outputs": [
    {
     "data": {
      "text/plain": [
       "['LSA_svd_topic']"
      ]
     },
     "execution_count": 24,
     "metadata": {},
     "output_type": "execute_result"
    }
   ],
   "source": [
    "joblib.dump(svd_model, 'LSA_svd_topic')             #  dump the model into 'LSA_svd_topic' file"
   ]
  },
  {
   "cell_type": "code",
   "execution_count": 25,
   "metadata": {},
   "outputs": [],
   "source": [
    "load_svd_model = joblib.load('LSA_svd_topic')         # loading the model "
   ]
  },
  {
   "cell_type": "markdown",
   "metadata": {},
   "source": [
    "### Visualize the Topics"
   ]
  },
  {
   "cell_type": "code",
   "execution_count": null,
   "metadata": {},
   "outputs": [],
   "source": [
    "We cannot visualize more than 3 dimensions, but there are techniques like PCA and t-SNE \n",
    "which can help us visualize high dimensional data into lower dimensions.\n",
    "\n",
    "Here we are using a new technique --> UMAP (Uniform Manifold Approximation and Projection)."
   ]
  },
  {
   "cell_type": "code",
   "execution_count": 26,
   "metadata": {},
   "outputs": [],
   "source": [
    "X_topics = load_svd_model.fit_transform(X)\n",
    "\n",
    "\n",
    "import umap                                                                         # conda install -c conda-forge umap-learn\n",
    "\n",
    "\n",
    "reducer = umap.UMAP(n_neighbors=150, min_dist=0.5, random_state=122)\n",
    "\n",
    "embedding = reducer.fit_transform(X_topics)"
   ]
  },
  {
   "cell_type": "code",
   "execution_count": 32,
   "metadata": {},
   "outputs": [
    {
     "data": {
      "image/png": "[encoded data removed]",
      "text/plain": [
       "<Figure size 504x360 with 1 Axes>"
      ]
     },
     "metadata": {
      "needs_background": "light"
     },
     "output_type": "display_data"
    }
   ],
   "source": [
    "plt.figure(figsize=(7,5))\n",
    "plt.scatter(embedding[:, 0], embedding[:, 1], c=dataset.target, s=10, edgecolor=None)\n",
    "plt.show()"
   ]
  },
  {
   "cell_type": "raw",
   "metadata": {},
   "source": [
    "Each 'dot' represents a document and the colors represent the 20 newsgroups."
   ]
  }
 ],
 "metadata": {
  "kernelspec": {
   "display_name": "Python 3",
   "language": "python",
   "name": "python3"
  },
  "language_info": {
   "codemirror_mode": {
    "name": "ipython",
    "version": 3
   },
   "file_extension": ".py",
   "mimetype": "text/x-python",
   "name": "python",
   "nbconvert_exporter": "python",
   "pygments_lexer": "ipython3",
   "version": "3.6.8"
  }
 },
 "nbformat": 4,
 "nbformat_minor": 2
}
