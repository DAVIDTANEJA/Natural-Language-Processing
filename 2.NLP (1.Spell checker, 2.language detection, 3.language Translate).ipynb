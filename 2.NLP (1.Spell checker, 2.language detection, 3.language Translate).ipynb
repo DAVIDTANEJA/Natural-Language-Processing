{
 "cells": [
  {
   "cell_type": "code",
   "execution_count": 1,
   "metadata": {},
   "outputs": [],
   "source": [
    "# pip install textblob\n",
    "# pip install pyspellchecker \n",
    "# pip install autocorrect "
   ]
  },
  {
   "cell_type": "markdown",
   "metadata": {},
   "source": [
    "## 1. Spell Checker and Auto Correction "
   ]
  },
  {
   "cell_type": "markdown",
   "metadata": {},
   "source": [
    "##### using  ' textblob '"
   ]
  },
  {
   "cell_type": "code",
   "execution_count": 1,
   "metadata": {},
   "outputs": [
    {
     "name": "stdout",
     "output_type": "stream",
     "text": [
      "he is gret persn : he is great person\n"
     ]
    }
   ],
   "source": [
    "from textblob import TextBlob, Word                   \n",
    "\n",
    "text = TextBlob('he is gret persn')\n",
    "# text.correct()\n",
    "\n",
    "print(f'{text} : {text.correct()}')"
   ]
  },
  {
   "cell_type": "code",
   "execution_count": null,
   "metadata": {},
   "outputs": [],
   "source": [
    "TextBlob('The match is going very dangerous').sentiment"
   ]
  },
  {
   "cell_type": "code",
   "execution_count": 3,
   "metadata": {
    "scrolled": true
   },
   "outputs": [
    {
     "name": "stdout",
     "output_type": "stream",
     "text": [
      "he : he\n",
      "is : is\n",
      "gret : great\n",
      "persn : person\n"
     ]
    }
   ],
   "source": [
    "for word in text.words:\n",
    "    print(f'{word} : {word.correct()}')"
   ]
  },
  {
   "cell_type": "code",
   "execution_count": 4,
   "metadata": {},
   "outputs": [
    {
     "data": {
      "text/plain": [
       "[('absence', 1.0)]"
      ]
     },
     "execution_count": 4,
     "metadata": {},
     "output_type": "execute_result"
    }
   ],
   "source": [
    "w = Word('absence')        # Word\n",
    "w.spellcheck()"
   ]
  },
  {
   "cell_type": "markdown",
   "metadata": {},
   "source": [
    "##### using ' spellchecker '"
   ]
  },
  {
   "cell_type": "code",
   "execution_count": 5,
   "metadata": {},
   "outputs": [],
   "source": [
    "from spellchecker import SpellChecker"
   ]
  },
  {
   "cell_type": "code",
   "execution_count": 6,
   "metadata": {},
   "outputs": [
    {
     "name": "stdout",
     "output_type": "stream",
     "text": [
      "calandr : calendar\n",
      "lightning : lightning\n",
      "bussiness : business\n",
      "recive : receive\n"
     ]
    }
   ],
   "source": [
    "docx = ['calandr', 'lightning', 'bussiness', 'recive'] \n",
    "\n",
    "spell = SpellChecker()     # intialize the object \n",
    "# spell.correction()\n",
    "\n",
    "for word in docx:\n",
    "    print(f'{word} : {spell.correction(word)}')"
   ]
  },
  {
   "cell_type": "code",
   "execution_count": 7,
   "metadata": {
    "scrolled": true
   },
   "outputs": [
    {
     "name": "stdout",
     "output_type": "stream",
     "text": [
      "calandr : {'callander', 'calender', 'lalande', 'salander', 'acland', 'colander', 'calendar'}\n",
      "lightning : {'lightning'}\n",
      "bussiness : {'business', 'fussiness', 'bossiness'}\n",
      "recive : {'recife', 'recipe', 'relive', 'receive', 'recite', 'revive'}\n"
     ]
    }
   ],
   "source": [
    "# spell.candidates()          # Generates spelling corrections for the provided word\n",
    "\n",
    "for word in docx:\n",
    "    print(f'{word} : {spell.candidates(word)}')"
   ]
  },
  {
   "cell_type": "code",
   "execution_count": 8,
   "metadata": {},
   "outputs": [
    {
     "name": "stdout",
     "output_type": "stream",
     "text": [
      "calandr : calendar  -> probability is : 0.0\n",
      "lightning : lightning  -> probability is : 8.63406306419047e-06\n",
      "bussiness : business  -> probability is : 0.0\n",
      "recive : receive  -> probability is : 0.0\n"
     ]
    }
   ],
   "source": [
    "for word in docx:\n",
    "    print(f'{word} : {spell.correction(word)}  -> probability is : {spell.word_probability(word)}')"
   ]
  },
  {
   "cell_type": "code",
   "execution_count": 9,
   "metadata": {},
   "outputs": [],
   "source": [
    "# also can  Add our words as list 'text file'  and  'words directly' \n",
    "\n",
    "# spell.word_frequency.load_text_file('myword.txt')     # 'myword.txt' - file name \n",
    "\n",
    "# spell.word_frequency.load_words(['Java', 'Python'])      # In this pass list of words\n",
    "\n",
    "# then perform sam all functions - correction() , candidates() "
   ]
  },
  {
   "cell_type": "markdown",
   "metadata": {},
   "source": [
    "#### using  autocorrect "
   ]
  },
  {
   "cell_type": "code",
   "execution_count": 10,
   "metadata": {},
   "outputs": [],
   "source": [
    "from autocorrect import spell"
   ]
  },
  {
   "cell_type": "code",
   "execution_count": 11,
   "metadata": {},
   "outputs": [
    {
     "data": {
      "text/plain": [
       "['calandr', 'lightning', 'bussiness', 'recive']"
      ]
     },
     "execution_count": 11,
     "metadata": {},
     "output_type": "execute_result"
    }
   ],
   "source": [
    "docx"
   ]
  },
  {
   "cell_type": "code",
   "execution_count": 12,
   "metadata": {},
   "outputs": [
    {
     "name": "stdout",
     "output_type": "stream",
     "text": [
      "calandr : calandre\n",
      "lightning : lightning\n",
      "bussiness : business\n",
      "recive : receive\n"
     ]
    }
   ],
   "source": [
    "# spell(docx)\n",
    "\n",
    "for word in docx:\n",
    "    print(f'{word} : {spell(word)}')"
   ]
  },
  {
   "cell_type": "markdown",
   "metadata": {},
   "source": [
    "## ------------------------------------------------------"
   ]
  },
  {
   "cell_type": "markdown",
   "metadata": {},
   "source": [
    "## 2. Language Identification"
   ]
  },
  {
   "cell_type": "code",
   "execution_count": null,
   "metadata": {},
   "outputs": [],
   "source": [
    "Language identification :\n",
    "is the task of identifying the language in which the content it is in. \n",
    "It makes use of statistical as well as syntactical properties of the language to perform this task. \n",
    "It may also be considered as a special case of text classification."
   ]
  },
  {
   "cell_type": "code",
   "execution_count": 15,
   "metadata": {},
   "outputs": [
    {
     "data": {
      "text/plain": [
       "'en'"
      ]
     },
     "execution_count": 15,
     "metadata": {},
     "output_type": "execute_result"
    }
   ],
   "source": [
    "from textblob import TextBlob\n",
    "\n",
    "word1 = TextBlob('Hello')\n",
    "word1.detect_language()              # gives 1st two letters of language 'en' - english"
   ]
  },
  {
   "cell_type": "code",
   "execution_count": 16,
   "metadata": {},
   "outputs": [
    {
     "name": "stdout",
     "output_type": "stream",
     "text": [
      "ja\n"
     ]
    }
   ],
   "source": [
    "word2 = TextBlob('こんにちは')\n",
    "print(word2.detect_language())     # 'ja' - jappanese"
   ]
  },
  {
   "cell_type": "markdown",
   "metadata": {},
   "source": [
    "## -------------------------------------"
   ]
  },
  {
   "cell_type": "markdown",
   "metadata": {},
   "source": [
    "## 3. Language Translation "
   ]
  },
  {
   "cell_type": "markdown",
   "metadata": {},
   "source": [
    "#### Translate the blob to another language. Uses the Google Translate API, also requires an internet connection."
   ]
  },
  {
   "cell_type": "code",
   "execution_count": 1,
   "metadata": {},
   "outputs": [],
   "source": [
    "from textblob import TextBlob"
   ]
  },
  {
   "cell_type": "code",
   "execution_count": 6,
   "metadata": {},
   "outputs": [
    {
     "data": {
      "text/plain": [
       "TextBlob(\"Hola\")"
      ]
     },
     "execution_count": 6,
     "metadata": {},
     "output_type": "execute_result"
    }
   ],
   "source": [
    "word1 = TextBlob('Hello')\n",
    "word1.translate(from_lang='en', to='es')"
   ]
  },
  {
   "cell_type": "code",
   "execution_count": 8,
   "metadata": {},
   "outputs": [
    {
     "data": {
      "text/plain": [
       "TextBlob(\"Hello\")"
      ]
     },
     "execution_count": 8,
     "metadata": {},
     "output_type": "execute_result"
    }
   ],
   "source": [
    "word2 = TextBlob('नमस्ते')\n",
    "word2.translate(from_lang='hi', to='en')"
   ]
  },
  {
   "cell_type": "code",
   "execution_count": 12,
   "metadata": {},
   "outputs": [
    {
     "data": {
      "text/plain": [
       "TextBlob(\"سب کو سلام\")"
      ]
     },
     "execution_count": 12,
     "metadata": {},
     "output_type": "execute_result"
    }
   ],
   "source": [
    "word3 = TextBlob('hello everyone')\n",
    "word3.translate(from_lang='en', to='ur')"
   ]
  },
  {
   "cell_type": "code",
   "execution_count": 16,
   "metadata": {},
   "outputs": [
    {
     "data": {
      "text/plain": [
       "TextBlob(\"ஹலோ அன்பே\")"
      ]
     },
     "execution_count": 16,
     "metadata": {},
     "output_type": "execute_result"
    }
   ],
   "source": [
    "word4 = TextBlob('hello dear')\n",
    "word4.translate(from_lang='en', to='ta')"
   ]
  },
  {
   "cell_type": "markdown",
   "metadata": {},
   "source": [
    "## --------------------------------------"
   ]
  },
  {
   "cell_type": "markdown",
   "metadata": {},
   "source": [
    "### Find similarity ratio between text"
   ]
  },
  {
   "cell_type": "code",
   "execution_count": 18,
   "metadata": {},
   "outputs": [],
   "source": [
    "from difflib import SequenceMatcher"
   ]
  },
  {
   "cell_type": "code",
   "execution_count": 35,
   "metadata": {},
   "outputs": [
    {
     "data": {
      "text/plain": [
       "0.22857142857142856"
      ]
     },
     "execution_count": 35,
     "metadata": {},
     "output_type": "execute_result"
    }
   ],
   "source": [
    "a = 'how to order a mobile phone'\n",
    "b= 'order a mobile phone'\n",
    "c = 'order that black mobile phone'\n",
    "d = 'hello I am here'\n",
    "\n",
    "s = SequenceMatcher(None, b,d)\n",
    "s.ratio()"
   ]
  },
  {
   "cell_type": "code",
   "execution_count": 42,
   "metadata": {},
   "outputs": [
    {
     "data": {
      "text/plain": [
       "0.8163265306122449"
      ]
     },
     "execution_count": 42,
     "metadata": {},
     "output_type": "execute_result"
    }
   ],
   "source": [
    "def similar(a,b):\n",
    "    return SequenceMatcher(None, a,b).ratio()\n",
    "\n",
    "similar(b, c)"
   ]
  }
 ],
 "metadata": {
  "kernelspec": {
   "display_name": "Python 3",
   "language": "python",
   "name": "python3"
  },
  "language_info": {
   "codemirror_mode": {
    "name": "ipython",
    "version": 3
   },
   "file_extension": ".py",
   "mimetype": "text/x-python",
   "name": "python",
   "nbconvert_exporter": "python",
   "pygments_lexer": "ipython3",
   "version": "3.6.8"
  }
 },
 "nbformat": 4,
 "nbformat_minor": 2
}
